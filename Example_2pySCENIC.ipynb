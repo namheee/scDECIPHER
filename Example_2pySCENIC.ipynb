{
 "cells": [
  {
   "cell_type": "markdown",
   "id": "3b8ad61d-f433-43c3-a8c1-72f98ba23dbe",
   "metadata": {},
   "source": [
    "## Gene Selection for Network Construction"
   ]
  },
  {
   "cell_type": "code",
   "execution_count": 23,
   "id": "6783a93a-3a60-48c9-88f7-80362ee33a9a",
   "metadata": {},
   "outputs": [],
   "source": [
    "import scanpy as sc\n",
    "import os\n",
    "import pandas as pd\n",
    "import numpy as np\n",
    "import loompy as lp\n",
    "import matplotlib.pyplot as plt\n",
    "import seaborn as sns\n",
    "\n",
    "os.getcwd()\n",
    "data_dir = '/data/'"
   ]
  },
  {
   "cell_type": "markdown",
   "id": "1b64ad9a-69ab-4588-a0d7-9dbb5b12b594",
   "metadata": {},
   "source": [
    "### Filtering adata"
   ]
  },
  {
   "cell_type": "code",
   "execution_count": 98,
   "id": "1e38b019-a894-47aa-a295-16950ac0f74b",
   "metadata": {},
   "outputs": [],
   "source": [
    "adata_file = data_dir + '/Anndata.h5ad' "
   ]
  },
  {
   "cell_type": "code",
   "execution_count": 99,
   "id": "c2c94f90-7926-4f85-91ce-7600dfb24ac9",
   "metadata": {},
   "outputs": [],
   "source": [
    "adata = sc.read(adata_file)"
   ]
  },
  {
   "cell_type": "code",
   "execution_count": 2,
   "id": "e09ccb68-65a9-4e9b-a089-d521147118af",
   "metadata": {},
   "outputs": [],
   "source": [
    "# PT_address = data_dir + 'to_cancer_L6/to_cancer_Lineage6_new.csv'\n",
    "PT_address = data_dir + 'to_entero_L3/to_entero_Lineage3_new.csv'\n",
    "Diff_PT = pd.read_csv(PT_address,index_col=0)\n",
    "PT_cells = Diff_PT.dropna().index\n",
    "# Diff_PT"
   ]
  },
  {
   "cell_type": "code",
   "execution_count": 63,
   "id": "b1ff7ce1-420e-4fc5-a69e-83f72c8808c9",
   "metadata": {
    "scrolled": true
   },
   "outputs": [],
   "source": [
    "adata_t = adata[PT_cells]\n",
    "adata_t.shape, adata.var_names, adata.obs_names"
   ]
  },
  {
   "cell_type": "code",
   "execution_count": 60,
   "id": "44f7bf6b-a4c8-4ef0-92c0-b14864d26466",
   "metadata": {},
   "outputs": [],
   "source": [
    "adata = adata_t"
   ]
  },
  {
   "cell_type": "code",
   "execution_count": 61,
   "id": "c140f171-2e37-4722-af45-cfa002818be9",
   "metadata": {},
   "outputs": [
    {
     "data": {
      "text/plain": [
       "(31053, 1235)"
      ]
     },
     "execution_count": 61,
     "metadata": {},
     "output_type": "execute_result"
    }
   ],
   "source": [
    "adata.X.transpose().shape # Gene symbol X Cell id"
   ]
  },
  {
   "cell_type": "code",
   "execution_count": 20,
   "id": "0fb5b421-3960-44d5-abd0-6055a99e4ce0",
   "metadata": {},
   "outputs": [],
   "source": [
    "# INITIAL PREPROCESSING-> SAVE LOOM FILE\n",
    "# \n",
    "f_loom_path_scenic = data_dir + \"input.loom\"\n",
    "# create basic row and column attributes for the loom file:\n",
    "row_attrs = {\n",
    "    \"Gene\": np.array(adata.var_names) ,\n",
    "}\n",
    "col_attrs = {\n",
    "    \"CellID\": np.array(adata.obs_names) ,\n",
    "    \"nGene\": np.array( np.sum(adata.X.transpose()>0 , axis=0)).flatten() ,\n",
    "    \"nUMI\": np.array( np.sum(adata.X.transpose() , axis=0)).flatten() ,\n",
    "}\n",
    "lp.create( f_loom_path_scenic, adata.X.transpose(), row_attrs, col_attrs)"
   ]
  },
  {
   "cell_type": "code",
   "execution_count": null,
   "id": "abbb9bea-7c7c-470a-9467-5368e43e1e1a",
   "metadata": {},
   "outputs": [],
   "source": []
  },
  {
   "cell_type": "markdown",
   "id": "3a5c2cbc-5b86-4af5-8c2a-282ca3b22eb6",
   "metadata": {},
   "source": [
    "### STEP 1: Gene regulatory network inference, and generation of co-expression modules\n",
    "\n",
    "Phase Ia: GRN inference using the GRNBoost2 algorithm"
   ]
  },
  {
   "cell_type": "code",
   "execution_count": 22,
   "id": "917d57ca-c35c-4555-bd5a-30ea39440633",
   "metadata": {},
   "outputs": [],
   "source": [
    "f_tfs = data_dir + 'mm_tf.txt'"
   ]
  },
  {
   "cell_type": "code",
   "execution_count": 15,
   "id": "dc85fb5c-0c80-4ed9-951a-5149ba3c6f33",
   "metadata": {},
   "outputs": [],
   "source": [
    "!pyscenic grn {f_loom_path_scenic} {f_tfs} -o adj.csv --num_workers 20"
   ]
  },
  {
   "cell_type": "code",
   "execution_count": 16,
   "id": "110fe7d7-b9bb-4fb8-83cd-31acb9f9fbe9",
   "metadata": {},
   "outputs": [],
   "source": [
    "adjacencies = pd.read_csv(data_dir +\"adj.csv\", index_col=False, sep=',')"
   ]
  },
  {
   "cell_type": "code",
   "execution_count": null,
   "id": "843079f9-b21d-4706-8f6c-00f3cb187ba0",
   "metadata": {},
   "outputs": [],
   "source": [
    "adjacencies.head()"
   ]
  },
  {
   "cell_type": "code",
   "execution_count": null,
   "id": "4ca823b7-e9ed-4656-9a74-a1d5e5fa6c8f",
   "metadata": {},
   "outputs": [],
   "source": []
  },
  {
   "cell_type": "markdown",
   "id": "349669d1-5ad9-4ea3-b420-0c1d8cae561e",
   "metadata": {},
   "source": [
    "### STEP 2~3: Regulon prediction aka cisTarget from CLI"
   ]
  },
  {
   "cell_type": "code",
   "execution_count": null,
   "id": "d057e765-0b48-473a-ad23-2c63d99232ae",
   "metadata": {},
   "outputs": [],
   "source": [
    "import glob\n",
    "# ranking databases\n",
    "f_db_glob = \"*.feather\"\n",
    "f_db_names = ' '.join( glob.glob(f_db_glob) )\n",
    "\n",
    "# motif databases\n",
    "f_motif_path = \"/data/motifs-v9-nr.mgi-m0.001-o0.0.tbl\""
   ]
  },
  {
   "cell_type": "code",
   "execution_count": null,
   "id": "b9012a26-4c71-480a-ab43-ad3e9fbeb75b",
   "metadata": {},
   "outputs": [],
   "source": [
    "f_db_names"
   ]
  },
  {
   "cell_type": "code",
   "execution_count": null,
   "id": "4b7bf4c2-0120-491e-8d10-3e652c7486c7",
   "metadata": {},
   "outputs": [],
   "source": [
    "!pyscenic ctx adj.csv \\\n",
    "    {f_db_names} \\\n",
    "    --annotations_fname {f_motif_path} \\\n",
    "    --expression_mtx_fname {f_loom_path_scenic} \\\n",
    "    --output reg.csv \\\n",
    "    --mask_dropouts \\\n",
    "    --num_workers 20"
   ]
  },
  {
   "cell_type": "code",
   "execution_count": null,
   "id": "448342d2-73f4-47ae-bc78-8745ccf98779",
   "metadata": {},
   "outputs": [],
   "source": []
  },
  {
   "cell_type": "markdown",
   "id": "f3e76028-7830-484f-81a2-3fd30fae61a0",
   "metadata": {},
   "source": [
    "### STEP 4: Cellular enrichment (aka AUCell) from CLI"
   ]
  },
  {
   "cell_type": "code",
   "execution_count": null,
   "id": "3ad1ed34-5696-4024-8a05-51d1af6a8048",
   "metadata": {},
   "outputs": [],
   "source": [
    "import numpy as np\n",
    "nGenesDetectedPerCell = np.sum(adata.X>0, axis=1)\n",
    "percentiles = np.quantile(nGenesDetectedPerCell,[.01, .05, .10, .50, 1])\n",
    "print(percentiles)"
   ]
  },
  {
   "cell_type": "code",
   "execution_count": null,
   "id": "9cac1dbb-3c2d-4d75-b486-3cc6760bfa00",
   "metadata": {},
   "outputs": [],
   "source": []
  },
  {
   "cell_type": "code",
   "execution_count": null,
   "id": "618acd5f-2a68-4037-a2b9-1c432748a24f",
   "metadata": {},
   "outputs": [],
   "source": [
    "# path to pyscenic output\n",
    "f_pyscenic_output = \"output.loom\"\n",
    "\n",
    "!pyscenic aucell \\\n",
    "    {f_loom_path_scenic} \\\n",
    "    reg.csv \\\n",
    "    --output {f_pyscenic_output} \\\n",
    "    --num_workers 20"
   ]
  },
  {
   "cell_type": "code",
   "execution_count": null,
   "id": "ca004443-bd56-4d37-b4f7-a02201be8d02",
   "metadata": {},
   "outputs": [],
   "source": [
    "# collect SCENIC AUCell output\n",
    "lf = lp.connect( f_pyscenic_output, mode='r+', validate=False )\n",
    "auc_mtx = pd.DataFrame( lf.ca.RegulonsAUC, index=lf.ca.CellID)\n",
    "lf.close()\n",
    "auc_mtx.to_csv('auc_mtx.csv')"
   ]
  },
  {
   "cell_type": "code",
   "execution_count": null,
   "id": "56764223-78b2-43d8-8285-4de7228129b8",
   "metadata": {},
   "outputs": [],
   "source": []
  },
  {
   "cell_type": "markdown",
   "id": "b3054c34-66c8-4722-b91a-de6637027bbe",
   "metadata": {},
   "source": [
    "### Gene selection: regulon_specificity_scores"
   ]
  },
  {
   "cell_type": "code",
   "execution_count": 79,
   "id": "dfe3fe86-e896-42a0-9f39-c2a58240181b",
   "metadata": {},
   "outputs": [],
   "source": [
    "from pyscenic.rss import regulon_specificity_scores"
   ]
  },
  {
   "cell_type": "code",
   "execution_count": 3,
   "id": "9bf7cd0e-0571-49a2-b8a3-6092fd69c615",
   "metadata": {},
   "outputs": [],
   "source": [
    "# auc_mtx = pd.read_csv(\"/data/to_cancer_L6/auc_mtx.csv\",index_col=0)\n",
    "auc_mtx = pd.read_csv(\"/data/to_entero_L3/auc_mtx.csv\",index_col=0)\n",
    "# auc_mtx.shape, auc_mtx.iloc[:5,:5]"
   ]
  },
  {
   "cell_type": "code",
   "execution_count": 4,
   "id": "40d6a818-4d53-4d5b-ab4b-e18591290823",
   "metadata": {},
   "outputs": [],
   "source": [
    "# Data_add='/data/to_cancer_L6/to_cancer_L6new_normalizedgene_expression.csv'\n",
    "Data_add='/data/to_entero_L3new_normalizedgene_expression.csv'\n",
    "\n",
    "data = pd.read_csv(Data_add,index_col=0)\n",
    "var_genes = set((data.std()[data.std()>0.1]).index)\n",
    "mean_genes = set((data.std()[data.mean()>0.05]).index)\n",
    "var_genes = (var_genes & mean_genes)\n",
    "len(var_genes)"
   ]
  },
  {
   "cell_type": "code",
   "execution_count": null,
   "id": "d6ef57dc-f845-460b-84c4-b53bf69ca43c",
   "metadata": {},
   "outputs": [],
   "source": []
  },
  {
   "cell_type": "code",
   "execution_count": 102,
   "id": "4521dedf-5ec5-48c8-a8e3-b12bd2ad2283",
   "metadata": {},
   "outputs": [
    {
     "data": {
      "text/html": [
       "<div>\n",
       "<style scoped>\n",
       "    .dataframe tbody tr th:only-of-type {\n",
       "        vertical-align: middle;\n",
       "    }\n",
       "\n",
       "    .dataframe tbody tr th {\n",
       "        vertical-align: top;\n",
       "    }\n",
       "\n",
       "    .dataframe thead th {\n",
       "        text-align: right;\n",
       "    }\n",
       "</style>\n",
       "<table border=\"1\" class=\"dataframe\">\n",
       "  <thead>\n",
       "    <tr style=\"text-align: right;\">\n",
       "      <th></th>\n",
       "      <th>PT</th>\n",
       "      <th>seurat_clusters</th>\n",
       "    </tr>\n",
       "  </thead>\n",
       "  <tbody>\n",
       "    <tr>\n",
       "      <th>ACTGATGCACGACGAA-1</th>\n",
       "      <td>0.000000</td>\n",
       "      <td>0</td>\n",
       "    </tr>\n",
       "    <tr>\n",
       "      <th>TACCTTATCTAAGCCA-1</th>\n",
       "      <td>0.000000</td>\n",
       "      <td>1</td>\n",
       "    </tr>\n",
       "    <tr>\n",
       "      <th>AGAGTGGAGACAAGCC-1</th>\n",
       "      <td>0.081017</td>\n",
       "      <td>1</td>\n",
       "    </tr>\n",
       "    <tr>\n",
       "      <th>AATCGGTTCACTTACT-1</th>\n",
       "      <td>0.370780</td>\n",
       "      <td>2</td>\n",
       "    </tr>\n",
       "    <tr>\n",
       "      <th>CGAGCCAAGAGATGAG-1</th>\n",
       "      <td>0.377285</td>\n",
       "      <td>2</td>\n",
       "    </tr>\n",
       "    <tr>\n",
       "      <th>...</th>\n",
       "      <td>...</td>\n",
       "      <td>...</td>\n",
       "    </tr>\n",
       "    <tr>\n",
       "      <th>AGATTGCTCTCGAGTA-1</th>\n",
       "      <td>20.680929</td>\n",
       "      <td>5</td>\n",
       "    </tr>\n",
       "    <tr>\n",
       "      <th>CATCAGAAGTAGGTGC-1</th>\n",
       "      <td>20.702917</td>\n",
       "      <td>5</td>\n",
       "    </tr>\n",
       "    <tr>\n",
       "      <th>TGGCCAGCAAACAACA-1</th>\n",
       "      <td>20.703051</td>\n",
       "      <td>5</td>\n",
       "    </tr>\n",
       "    <tr>\n",
       "      <th>TCTGAGAGTTCCTCCA-1</th>\n",
       "      <td>20.710960</td>\n",
       "      <td>5</td>\n",
       "    </tr>\n",
       "    <tr>\n",
       "      <th>GTAACGTAGTGGCACA-1</th>\n",
       "      <td>20.828082</td>\n",
       "      <td>5</td>\n",
       "    </tr>\n",
       "  </tbody>\n",
       "</table>\n",
       "<p>2641 rows × 2 columns</p>\n",
       "</div>"
      ],
      "text/plain": [
       "                           PT seurat_clusters\n",
       "ACTGATGCACGACGAA-1   0.000000               0\n",
       "TACCTTATCTAAGCCA-1   0.000000               1\n",
       "AGAGTGGAGACAAGCC-1   0.081017               1\n",
       "AATCGGTTCACTTACT-1   0.370780               2\n",
       "CGAGCCAAGAGATGAG-1   0.377285               2\n",
       "...                       ...             ...\n",
       "AGATTGCTCTCGAGTA-1  20.680929               5\n",
       "CATCAGAAGTAGGTGC-1  20.702917               5\n",
       "TGGCCAGCAAACAACA-1  20.703051               5\n",
       "TCTGAGAGTTCCTCCA-1  20.710960               5\n",
       "GTAACGTAGTGGCACA-1  20.828082               5\n",
       "\n",
       "[2641 rows x 2 columns]"
      ]
     },
     "execution_count": 102,
     "metadata": {},
     "output_type": "execute_result"
    }
   ],
   "source": [
    "cellAnnot = Diff_PT.dropna()\n",
    "cellAnnot = pd.concat([cellAnnot, pd.DataFrame(adata[PT_cells,].obs.seurat_clusters)],axis=1)\n",
    "cellAnnot"
   ]
  },
  {
   "cell_type": "code",
   "execution_count": 103,
   "id": "c9ef3ee4-82fa-42fc-96ce-d81ac248c2b9",
   "metadata": {},
   "outputs": [
    {
     "name": "stdout",
     "output_type": "stream",
     "text": [
      "Counter({'Unknown': 1464, '26': 658, '135': 519})\n"
     ]
    }
   ],
   "source": [
    "import numpy as np\n",
    "from collections import Counter\n",
    "p25 = np.quantile(Diff_PT.dropna(),0.25)\n",
    "p75 = np.quantile(Diff_PT.dropna(),0.75)\n",
    "\n",
    "cellAnnot.loc[:,'q2'] = ['Unknown' for _ in range(cellAnnot.shape[0])]\n",
    "\n",
    "# to_entero_L3\n",
    "cellAnnot.loc[[ (('2' == x) | ('6' == x)) & (y<= p25) for x,y in zip(cellAnnot.seurat_clusters,cellAnnot.PT)],'q2'] = '26'\n",
    "cellAnnot.loc[[ (('13' == x) | ('5' == x)) & (y>= p75) for x,y in zip(cellAnnot.seurat_clusters,cellAnnot.PT)],'q2'] = '135'\n",
    "\n",
    "# to_cancer_L6\n",
    "# cellAnnot.loc[[ (('2' == x) | ('2' == x)) & (y<= p25) for x,y in zip(cellAnnot.seurat_clusters,cellAnnot.PT)],'q2'] = '2'\n",
    "# cellAnnot.loc[[ (('7' == x) | ('7' == x)) & (y>= p75) for x,y in zip(cellAnnot.seurat_clusters,cellAnnot.PT)],'q2'] = '7'\n",
    "print(Counter(cellAnnot.q2))\n"
   ]
  },
  {
   "cell_type": "code",
   "execution_count": 104,
   "id": "8eebad13-f83f-4440-a4db-7eba10b72721",
   "metadata": {},
   "outputs": [
    {
     "data": {
      "text/html": [
       "<div>\n",
       "<style scoped>\n",
       "    .dataframe tbody tr th:only-of-type {\n",
       "        vertical-align: middle;\n",
       "    }\n",
       "\n",
       "    .dataframe tbody tr th {\n",
       "        vertical-align: top;\n",
       "    }\n",
       "\n",
       "    .dataframe thead th {\n",
       "        text-align: right;\n",
       "    }\n",
       "</style>\n",
       "<table border=\"1\" class=\"dataframe\">\n",
       "  <thead>\n",
       "    <tr style=\"text-align: right;\">\n",
       "      <th></th>\n",
       "      <th>1810024B03Rik(+)</th>\n",
       "      <th>2010315B03Rik(+)</th>\n",
       "      <th>9030624G23Rik(+)</th>\n",
       "      <th>AI987944(+)</th>\n",
       "      <th>AU041133(+)</th>\n",
       "      <th>AW146154(+)</th>\n",
       "      <th>Acaa1a(+)</th>\n",
       "      <th>Acaa1b(+)</th>\n",
       "      <th>Aco1(+)</th>\n",
       "      <th>Ahr(+)</th>\n",
       "      <th>...</th>\n",
       "      <th>Zfp868(+)</th>\n",
       "      <th>Zfp931(+)</th>\n",
       "      <th>Zfp950(+)</th>\n",
       "      <th>Zfp959(+)</th>\n",
       "      <th>Zfp961(+)</th>\n",
       "      <th>Zfx(+)</th>\n",
       "      <th>Zmiz1(+)</th>\n",
       "      <th>Zscan21(+)</th>\n",
       "      <th>Zscan22(+)</th>\n",
       "      <th>Zxdc(+)</th>\n",
       "    </tr>\n",
       "  </thead>\n",
       "  <tbody>\n",
       "    <tr>\n",
       "      <th>Unknown</th>\n",
       "      <td>0.492032</td>\n",
       "      <td>0.557161</td>\n",
       "      <td>0.265257</td>\n",
       "      <td>0.493993</td>\n",
       "      <td>0.388472</td>\n",
       "      <td>0.256667</td>\n",
       "      <td>0.231339</td>\n",
       "      <td>0.252443</td>\n",
       "      <td>0.493780</td>\n",
       "      <td>0.560684</td>\n",
       "      <td>...</td>\n",
       "      <td>0.312752</td>\n",
       "      <td>0.513030</td>\n",
       "      <td>0.562083</td>\n",
       "      <td>0.484945</td>\n",
       "      <td>0.385596</td>\n",
       "      <td>0.538014</td>\n",
       "      <td>0.498845</td>\n",
       "      <td>0.353378</td>\n",
       "      <td>0.258817</td>\n",
       "      <td>0.272040</td>\n",
       "    </tr>\n",
       "    <tr>\n",
       "      <th>26</th>\n",
       "      <td>0.378067</td>\n",
       "      <td>0.359931</td>\n",
       "      <td>0.249553</td>\n",
       "      <td>0.339673</td>\n",
       "      <td>0.357164</td>\n",
       "      <td>0.236908</td>\n",
       "      <td>0.222423</td>\n",
       "      <td>0.209214</td>\n",
       "      <td>0.301124</td>\n",
       "      <td>0.390817</td>\n",
       "      <td>...</td>\n",
       "      <td>0.248570</td>\n",
       "      <td>0.372341</td>\n",
       "      <td>0.357730</td>\n",
       "      <td>0.339210</td>\n",
       "      <td>0.305128</td>\n",
       "      <td>0.375680</td>\n",
       "      <td>0.337822</td>\n",
       "      <td>0.375821</td>\n",
       "      <td>0.312099</td>\n",
       "      <td>0.203548</td>\n",
       "    </tr>\n",
       "    <tr>\n",
       "      <th>135</th>\n",
       "      <td>0.337213</td>\n",
       "      <td>0.374368</td>\n",
       "      <td>0.265475</td>\n",
       "      <td>0.331944</td>\n",
       "      <td>0.259201</td>\n",
       "      <td>0.278992</td>\n",
       "      <td>0.277277</td>\n",
       "      <td>0.546497</td>\n",
       "      <td>0.458981</td>\n",
       "      <td>0.334475</td>\n",
       "      <td>...</td>\n",
       "      <td>0.306669</td>\n",
       "      <td>0.345796</td>\n",
       "      <td>0.358158</td>\n",
       "      <td>0.353520</td>\n",
       "      <td>0.304430</td>\n",
       "      <td>0.367692</td>\n",
       "      <td>0.444624</td>\n",
       "      <td>0.275239</td>\n",
       "      <td>0.200079</td>\n",
       "      <td>0.396027</td>\n",
       "    </tr>\n",
       "  </tbody>\n",
       "</table>\n",
       "<p>3 rows × 379 columns</p>\n",
       "</div>"
      ],
      "text/plain": [
       "         1810024B03Rik(+)  2010315B03Rik(+)  9030624G23Rik(+)  AI987944(+)  \\\n",
       "Unknown          0.492032          0.557161          0.265257     0.493993   \n",
       "26               0.378067          0.359931          0.249553     0.339673   \n",
       "135              0.337213          0.374368          0.265475     0.331944   \n",
       "\n",
       "         AU041133(+)  AW146154(+)  Acaa1a(+)  Acaa1b(+)   Aco1(+)    Ahr(+)  \\\n",
       "Unknown     0.388472     0.256667   0.231339   0.252443  0.493780  0.560684   \n",
       "26          0.357164     0.236908   0.222423   0.209214  0.301124  0.390817   \n",
       "135         0.259201     0.278992   0.277277   0.546497  0.458981  0.334475   \n",
       "\n",
       "         ...  Zfp868(+)  Zfp931(+)  Zfp950(+)  Zfp959(+)  Zfp961(+)    Zfx(+)  \\\n",
       "Unknown  ...   0.312752   0.513030   0.562083   0.484945   0.385596  0.538014   \n",
       "26       ...   0.248570   0.372341   0.357730   0.339210   0.305128  0.375680   \n",
       "135      ...   0.306669   0.345796   0.358158   0.353520   0.304430  0.367692   \n",
       "\n",
       "         Zmiz1(+)  Zscan21(+)  Zscan22(+)   Zxdc(+)  \n",
       "Unknown  0.498845    0.353378    0.258817  0.272040  \n",
       "26       0.337822    0.375821    0.312099  0.203548  \n",
       "135      0.444624    0.275239    0.200079  0.396027  \n",
       "\n",
       "[3 rows x 379 columns]"
      ]
     },
     "execution_count": 104,
     "metadata": {},
     "output_type": "execute_result"
    }
   ],
   "source": [
    "rss_cellType = regulon_specificity_scores( auc_mtx, cellAnnot['q2'] )\n",
    "rss_cellType"
   ]
  },
  {
   "cell_type": "code",
   "execution_count": null,
   "id": "eaea0a41-03f3-472b-afe4-9fd409207201",
   "metadata": {},
   "outputs": [],
   "source": []
  },
  {
   "cell_type": "code",
   "execution_count": null,
   "id": "ae9c52df-2bee-4451-9ff1-3f72db21540c",
   "metadata": {},
   "outputs": [],
   "source": []
  },
  {
   "cell_type": "code",
   "execution_count": 105,
   "id": "7bfe0454-3614-465b-bf94-282cdab9a3e5",
   "metadata": {},
   "outputs": [],
   "source": [
    "# rss_cellType_toC"
   ]
  },
  {
   "cell_type": "code",
   "execution_count": 85,
   "id": "7d437731-66d1-42e4-a68b-c787437eba46",
   "metadata": {},
   "outputs": [
    {
     "name": "stdout",
     "output_type": "stream",
     "text": [
      "{'Cebpb', 'Pole4', 'Gtf2f1', 'Nr2c2', 'Nr3c1', 'Smarcb1', 'Tfdp2', 'Polr3a', 'Mlxipl', 'Myb', 'Tfdp1', 'Hmgb3', 'Hnf4a', 'Esrra', 'Isx', 'Mthfd1', 'Cdx1', 'Atf1', 'Hnf4g'} 19\n"
     ]
    }
   ],
   "source": [
    "p = 0.9\n",
    "genes = set(rss_cellType.T['2'][rss_cellType.T['2'] >= np.quantile(rss_cellType.T['2'], p)].index)\n",
    "toC_stem = set([x.split('(')[0] for x in genes]) & var_genes\n",
    "print(toC_stem, len(toC_stem))"
   ]
  },
  {
   "cell_type": "code",
   "execution_count": 87,
   "id": "ff4225f6-4adf-40ca-8bb1-a9f13f747281",
   "metadata": {},
   "outputs": [
    {
     "name": "stdout",
     "output_type": "stream",
     "text": [
      "{'Usf1', 'Zfp444', 'Tcf4', 'Zfp652', 'Hoxb7', 'Foxa3', 'Foxq1', 'Ltf', 'Hoxb9', 'Tead2', 'Tgif1', 'Hoxb8', 'Sp5', 'Npdc1', 'Etv3', 'Nfe2l3'} 16\n"
     ]
    }
   ],
   "source": [
    "p = 0.9\n",
    "genes = set(rss_cellType.T['7'][rss_cellType.T['7'] >= np.quantile(rss_cellType.T['7'], p)].index)\n",
    "toC_cancer = set([x.split('(')[0] for x in genes]) & var_genes\n",
    "print(toC_cancer, len(toC_cancer))"
   ]
  },
  {
   "cell_type": "code",
   "execution_count": null,
   "id": "92bc583f-4573-4482-8ff0-549a89c94e69",
   "metadata": {},
   "outputs": [],
   "source": []
  },
  {
   "cell_type": "code",
   "execution_count": 106,
   "id": "7766e71e-f883-41a6-b1b7-9d2115738db8",
   "metadata": {},
   "outputs": [],
   "source": [
    "# rss_cellType_toE"
   ]
  },
  {
   "cell_type": "code",
   "execution_count": 107,
   "id": "524e5ffc-b9f0-43c8-9a08-2c76eb6ad1b0",
   "metadata": {},
   "outputs": [
    {
     "name": "stdout",
     "output_type": "stream",
     "text": [
      "{'Myc', 'Nelfe', 'Smc3', 'Hes1', 'E2f5', 'Pole4', 'Hdac2', 'Bmyc', 'Pole3', 'Ezh2', 'Sox9', 'Elf2', 'Ehf', 'Hes6', 'Zfp704', 'Tfdp2', 'Gmeb1'} 17\n"
     ]
    }
   ],
   "source": [
    "p = 0.92\n",
    "genes = set(rss_cellType_toE.T['26'][rss_cellType_toE.T['26'] >= np.quantile(rss_cellType_toE.T['26'], p)].index)\n",
    "toE_stem = set([x.split('(')[0] for x in genes]) & var_genes\n",
    "print(toE_stem, len(toE_stem))"
   ]
  },
  {
   "cell_type": "code",
   "execution_count": 108,
   "id": "49ce02e7-b05e-452c-86c7-ad83f3040c2d",
   "metadata": {},
   "outputs": [
    {
     "name": "stdout",
     "output_type": "stream",
     "text": [
      "{'Hif1a', 'Relb', 'Kdm7a', 'Gata5', 'Aco1', 'Mafb', 'Irf7', 'Rara', 'Maf', 'Zmiz1', 'Esrra', 'Nuak2', 'Ppargc1a', 'Klf4', 'Creb3l2', 'Max', 'Acaa1b', 'Tbx3', 'Mxi1', 'Bhlhe40'} 20\n"
     ]
    }
   ],
   "source": [
    "p = 0.92\n",
    "genes = set(rss_cellType_toE.T['135'][rss_cellType_toE.T['135'] >= np.quantile(rss_cellType_toE.T['135'], p)].index)\n",
    "toE_entero = set([x.split('(')[0] for x in genes]) & var_genes\n",
    "print(toE_entero, len(toE_entero))"
   ]
  },
  {
   "cell_type": "code",
   "execution_count": null,
   "id": "882007ea-e907-432a-8e63-6a87f4eca31d",
   "metadata": {},
   "outputs": [],
   "source": []
  },
  {
   "cell_type": "code",
   "execution_count": null,
   "id": "df069201-1d86-4ad3-82b2-35f0d594a839",
   "metadata": {},
   "outputs": [],
   "source": []
  },
  {
   "cell_type": "code",
   "execution_count": null,
   "id": "b8fa10d0-5cab-4ce9-9dc2-aa7011063714",
   "metadata": {},
   "outputs": [],
   "source": []
  }
 ],
 "metadata": {
  "kernelspec": {
   "display_name": "Python [conda env:base] *",
   "language": "python",
   "name": "conda-base-py"
  },
  "language_info": {
   "codemirror_mode": {
    "name": "ipython",
    "version": 3
   },
   "file_extension": ".py",
   "mimetype": "text/x-python",
   "name": "python",
   "nbconvert_exporter": "python",
   "pygments_lexer": "ipython3",
   "version": "3.12.2"
  }
 },
 "nbformat": 4,
 "nbformat_minor": 5
}
